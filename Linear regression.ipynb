{
 "cells": [
  {
   "cell_type": "code",
   "execution_count": 32,
   "id": "22bf4756",
   "metadata": {},
   "outputs": [],
   "source": [
    "#some imports to use it in program\n",
    "import numpy as np\n",
    "import pandas as pd\n",
    "import matplotlib.pyplot as plt"
   ]
  },
  {
   "cell_type": "markdown",
   "id": "9e2e50e3",
   "metadata": {},
   "source": [
    "#### read dataset by using pandas "
   ]
  },
  {
   "cell_type": "code",
   "execution_count": 33,
   "id": "9e53a7b0",
   "metadata": {},
   "outputs": [
    {
     "data": {
      "text/html": [
       "<div>\n",
       "<style scoped>\n",
       "    .dataframe tbody tr th:only-of-type {\n",
       "        vertical-align: middle;\n",
       "    }\n",
       "\n",
       "    .dataframe tbody tr th {\n",
       "        vertical-align: top;\n",
       "    }\n",
       "\n",
       "    .dataframe thead th {\n",
       "        text-align: right;\n",
       "    }\n",
       "</style>\n",
       "<table border=\"1\" class=\"dataframe\">\n",
       "  <thead>\n",
       "    <tr style=\"text-align: right;\">\n",
       "      <th></th>\n",
       "      <th>customer_number</th>\n",
       "      <th>profit</th>\n",
       "    </tr>\n",
       "  </thead>\n",
       "  <tbody>\n",
       "    <tr>\n",
       "      <th>0</th>\n",
       "      <td>6.1101</td>\n",
       "      <td>17.59200</td>\n",
       "    </tr>\n",
       "    <tr>\n",
       "      <th>1</th>\n",
       "      <td>5.5277</td>\n",
       "      <td>9.13020</td>\n",
       "    </tr>\n",
       "    <tr>\n",
       "      <th>2</th>\n",
       "      <td>8.5186</td>\n",
       "      <td>13.66200</td>\n",
       "    </tr>\n",
       "    <tr>\n",
       "      <th>3</th>\n",
       "      <td>7.0032</td>\n",
       "      <td>11.85400</td>\n",
       "    </tr>\n",
       "    <tr>\n",
       "      <th>4</th>\n",
       "      <td>5.8598</td>\n",
       "      <td>6.82330</td>\n",
       "    </tr>\n",
       "    <tr>\n",
       "      <th>...</th>\n",
       "      <td>...</td>\n",
       "      <td>...</td>\n",
       "    </tr>\n",
       "    <tr>\n",
       "      <th>92</th>\n",
       "      <td>5.8707</td>\n",
       "      <td>7.20290</td>\n",
       "    </tr>\n",
       "    <tr>\n",
       "      <th>93</th>\n",
       "      <td>5.3054</td>\n",
       "      <td>1.98690</td>\n",
       "    </tr>\n",
       "    <tr>\n",
       "      <th>94</th>\n",
       "      <td>8.2934</td>\n",
       "      <td>0.14454</td>\n",
       "    </tr>\n",
       "    <tr>\n",
       "      <th>95</th>\n",
       "      <td>13.3940</td>\n",
       "      <td>9.05510</td>\n",
       "    </tr>\n",
       "    <tr>\n",
       "      <th>96</th>\n",
       "      <td>5.4369</td>\n",
       "      <td>0.61705</td>\n",
       "    </tr>\n",
       "  </tbody>\n",
       "</table>\n",
       "<p>97 rows × 2 columns</p>\n",
       "</div>"
      ],
      "text/plain": [
       "    customer_number    profit\n",
       "0            6.1101  17.59200\n",
       "1            5.5277   9.13020\n",
       "2            8.5186  13.66200\n",
       "3            7.0032  11.85400\n",
       "4            5.8598   6.82330\n",
       "..              ...       ...\n",
       "92           5.8707   7.20290\n",
       "93           5.3054   1.98690\n",
       "94           8.2934   0.14454\n",
       "95          13.3940   9.05510\n",
       "96           5.4369   0.61705\n",
       "\n",
       "[97 rows x 2 columns]"
      ]
     },
     "execution_count": 33,
     "metadata": {},
     "output_type": "execute_result"
    }
   ],
   "source": [
    "file = pd.read_csv(\"dataset.csv\")\n",
    "file"
   ]
  },
  {
   "cell_type": "code",
   "execution_count": 34,
   "id": "afe25a67",
   "metadata": {},
   "outputs": [
    {
     "data": {
      "text/html": [
       "<div>\n",
       "<style scoped>\n",
       "    .dataframe tbody tr th:only-of-type {\n",
       "        vertical-align: middle;\n",
       "    }\n",
       "\n",
       "    .dataframe tbody tr th {\n",
       "        vertical-align: top;\n",
       "    }\n",
       "\n",
       "    .dataframe thead th {\n",
       "        text-align: right;\n",
       "    }\n",
       "</style>\n",
       "<table border=\"1\" class=\"dataframe\">\n",
       "  <thead>\n",
       "    <tr style=\"text-align: right;\">\n",
       "      <th></th>\n",
       "      <th>customer_number</th>\n",
       "      <th>profit</th>\n",
       "    </tr>\n",
       "  </thead>\n",
       "  <tbody>\n",
       "    <tr>\n",
       "      <th>0</th>\n",
       "      <td>6.1101</td>\n",
       "      <td>17.59200</td>\n",
       "    </tr>\n",
       "    <tr>\n",
       "      <th>1</th>\n",
       "      <td>5.5277</td>\n",
       "      <td>9.13020</td>\n",
       "    </tr>\n",
       "    <tr>\n",
       "      <th>2</th>\n",
       "      <td>8.5186</td>\n",
       "      <td>13.66200</td>\n",
       "    </tr>\n",
       "    <tr>\n",
       "      <th>3</th>\n",
       "      <td>7.0032</td>\n",
       "      <td>11.85400</td>\n",
       "    </tr>\n",
       "    <tr>\n",
       "      <th>4</th>\n",
       "      <td>5.8598</td>\n",
       "      <td>6.82330</td>\n",
       "    </tr>\n",
       "    <tr>\n",
       "      <th>...</th>\n",
       "      <td>...</td>\n",
       "      <td>...</td>\n",
       "    </tr>\n",
       "    <tr>\n",
       "      <th>92</th>\n",
       "      <td>5.8707</td>\n",
       "      <td>7.20290</td>\n",
       "    </tr>\n",
       "    <tr>\n",
       "      <th>93</th>\n",
       "      <td>5.3054</td>\n",
       "      <td>1.98690</td>\n",
       "    </tr>\n",
       "    <tr>\n",
       "      <th>94</th>\n",
       "      <td>8.2934</td>\n",
       "      <td>0.14454</td>\n",
       "    </tr>\n",
       "    <tr>\n",
       "      <th>95</th>\n",
       "      <td>13.3940</td>\n",
       "      <td>9.05510</td>\n",
       "    </tr>\n",
       "    <tr>\n",
       "      <th>96</th>\n",
       "      <td>5.4369</td>\n",
       "      <td>0.61705</td>\n",
       "    </tr>\n",
       "  </tbody>\n",
       "</table>\n",
       "<p>97 rows × 2 columns</p>\n",
       "</div>"
      ],
      "text/plain": [
       "    customer_number    profit\n",
       "0            6.1101  17.59200\n",
       "1            5.5277   9.13020\n",
       "2            8.5186  13.66200\n",
       "3            7.0032  11.85400\n",
       "4            5.8598   6.82330\n",
       "..              ...       ...\n",
       "92           5.8707   7.20290\n",
       "93           5.3054   1.98690\n",
       "94           8.2934   0.14454\n",
       "95          13.3940   9.05510\n",
       "96           5.4369   0.61705\n",
       "\n",
       "[97 rows x 2 columns]"
      ]
     },
     "execution_count": 34,
     "metadata": {},
     "output_type": "execute_result"
    }
   ],
   "source": [
    "pd.DataFrame(file) #show dataset"
   ]
  },
  {
   "cell_type": "markdown",
   "id": "11349d11",
   "metadata": {},
   "source": [
    "#### Draw the Scatter plot "
   ]
  },
  {
   "cell_type": "code",
   "execution_count": 35,
   "id": "07922fb1",
   "metadata": {},
   "outputs": [
    {
     "data": {
      "text/plain": [
       "<matplotlib.collections.PathCollection at 0x1568f48b8b0>"
      ]
     },
     "execution_count": 35,
     "metadata": {},
     "output_type": "execute_result"
    },
    {
     "data": {
      "image/png": "[encoded data removed]",
      "text/plain": [
       "<Figure size 432x288 with 1 Axes>"
      ]
     },
     "metadata": {
      "needs_background": "light"
     },
     "output_type": "display_data"
    }
   ],
   "source": [
    "plt.xlabel('customer_number')\n",
    "plt.ylabel('profit($)')\n",
    "plt.scatter(file.iloc[:,0],file.iloc[:,-1],color='red')"
   ]
  },
  {
   "cell_type": "markdown",
   "id": "7cb06542",
   "metadata": {},
   "source": [
    "#### adding a new column called ones to help us in matrices\n",
    "#### Show new data after adding a column "
   ]
  },
  {
   "cell_type": "code",
   "execution_count": 36,
   "id": "263a8d61",
   "metadata": {},
   "outputs": [
    {
     "name": "stdout",
     "output_type": "stream",
     "text": [
      "new data =\n",
      "    customer_number  Ones   profit\n",
      "0           6.1101     1  17.5920\n",
      "1           5.5277     1   9.1302\n",
      "2           8.5186     1  13.6620\n",
      "3           7.0032     1  11.8540\n",
      "4           5.8598     1   6.8233\n",
      "5           8.3829     1  11.8860\n",
      "6           7.4764     1   4.3483\n",
      "7           8.5781     1  12.0000\n",
      "8           6.4862     1   6.5987\n",
      "9           5.0546     1   3.8166\n"
     ]
    }
   ],
   "source": [
    "file.insert(1,'Ones',1)               \n",
    "print('new data =\\n',file.head(10))  "
   ]
  },
  {
   "cell_type": "code",
   "execution_count": 37,
   "id": "ebc1985e",
   "metadata": {},
   "outputs": [
    {
     "name": "stdout",
     "output_type": "stream",
     "text": [
      "   customer_number  Ones\n",
      "0           6.1101     1\n",
      "1           5.5277     1\n",
      "2           8.5186     1\n",
      "3           7.0032     1\n",
      "4           5.8598     1\n",
      "0    17.5920\n",
      "1     9.1302\n",
      "2    13.6620\n",
      "3    11.8540\n",
      "4     6.8233\n",
      "Name: profit, dtype: float64\n"
     ]
    }
   ],
   "source": [
    "x=file.iloc[:,[0,1]]   #separete x (training data) from y by using iloc and show data\n",
    "y=file.iloc[:,-1]\n",
    "print(x.head(5))\n",
    "print(y.head(5))"
   ]
  },
  {
   "cell_type": "code",
   "execution_count": 38,
   "id": "42a44acc",
   "metadata": {},
   "outputs": [],
   "source": [
    "#m is number of rows\n",
    "#Convert data to numpy matrices\n",
    "\n",
    "m=len(file.customer_number)\n",
    "iterations=1500\n",
    "alpha=0.01\n",
    "x=np.array(x)\n",
    "y=np.array(y)\n",
    "theta=np.array([0,0])"
   ]
  },
  {
   "cell_type": "markdown",
   "id": "a53ce8b2",
   "metadata": {},
   "source": [
    "#### Draw the Scatter plot with initial line"
   ]
  },
  {
   "cell_type": "code",
   "execution_count": 39,
   "id": "e38914b2",
   "metadata": {
    "scrolled": true
   },
   "outputs": [
    {
     "data": {
      "image/png": "[encoded data removed]",
      "text/plain": [
       "<Figure size 432x288 with 1 Axes>"
      ]
     },
     "metadata": {
      "needs_background": "light"
     },
     "output_type": "display_data"
    }
   ],
   "source": [
    "plt.xlabel('customer_number')\n",
    "plt.ylabel('profit($)')\n",
    "plt.scatter(file.iloc[:,0],file.iloc[:,-1],color='red')\n",
    "\n",
    "X=file.iloc[:,0]\n",
    "Y=theta[0]*X+theta[1]\n",
    "plt.plot(X,Y,color='blue') \n",
    "plt.title(\"line before\")\n",
    "plt.show()"
   ]
  },
  {
   "cell_type": "code",
   "execution_count": 40,
   "id": "4c32cac4",
   "metadata": {},
   "outputs": [
    {
     "name": "stdout",
     "output_type": "stream",
     "text": [
      "x=\n",
      " [[ 6.1101  1.    ]\n",
      " [ 5.5277  1.    ]\n",
      " [ 8.5186  1.    ]\n",
      " [ 7.0032  1.    ]\n",
      " [ 5.8598  1.    ]\n",
      " [ 8.3829  1.    ]\n",
      " [ 7.4764  1.    ]\n",
      " [ 8.5781  1.    ]\n",
      " [ 6.4862  1.    ]\n",
      " [ 5.0546  1.    ]\n",
      " [ 5.7107  1.    ]\n",
      " [14.164   1.    ]\n",
      " [ 5.734   1.    ]\n",
      " [ 8.4084  1.    ]\n",
      " [ 5.6407  1.    ]\n",
      " [ 5.3794  1.    ]\n",
      " [ 6.3654  1.    ]\n",
      " [ 5.1301  1.    ]\n",
      " [ 6.4296  1.    ]\n",
      " [ 7.0708  1.    ]\n",
      " [ 6.1891  1.    ]\n",
      " [20.27    1.    ]\n",
      " [ 5.4901  1.    ]\n",
      " [ 6.3261  1.    ]\n",
      " [ 5.5649  1.    ]\n",
      " [18.945   1.    ]\n",
      " [12.828   1.    ]\n",
      " [10.957   1.    ]\n",
      " [13.176   1.    ]\n",
      " [22.203   1.    ]\n",
      " [ 5.2524  1.    ]\n",
      " [ 6.5894  1.    ]\n",
      " [ 9.2482  1.    ]\n",
      " [ 5.8918  1.    ]\n",
      " [ 8.2111  1.    ]\n",
      " [ 7.9334  1.    ]\n",
      " [ 8.0959  1.    ]\n",
      " [ 5.6063  1.    ]\n",
      " [12.836   1.    ]\n",
      " [ 6.3534  1.    ]\n",
      " [ 5.4069  1.    ]\n",
      " [ 6.8825  1.    ]\n",
      " [11.708   1.    ]\n",
      " [ 5.7737  1.    ]\n",
      " [ 7.8247  1.    ]\n",
      " [ 7.0931  1.    ]\n",
      " [ 5.0702  1.    ]\n",
      " [ 5.8014  1.    ]\n",
      " [11.7     1.    ]\n",
      " [ 5.5416  1.    ]\n",
      " [ 7.5402  1.    ]\n",
      " [ 5.3077  1.    ]\n",
      " [ 7.4239  1.    ]\n",
      " [ 7.6031  1.    ]\n",
      " [ 6.3328  1.    ]\n",
      " [ 6.3589  1.    ]\n",
      " [ 6.2742  1.    ]\n",
      " [ 5.6397  1.    ]\n",
      " [ 9.3102  1.    ]\n",
      " [ 9.4536  1.    ]\n",
      " [ 8.8254  1.    ]\n",
      " [ 5.1793  1.    ]\n",
      " [21.279   1.    ]\n",
      " [14.908   1.    ]\n",
      " [18.959   1.    ]\n",
      " [ 7.2182  1.    ]\n",
      " [ 8.2951  1.    ]\n",
      " [10.236   1.    ]\n",
      " [ 5.4994  1.    ]\n",
      " [20.341   1.    ]\n",
      " [10.136   1.    ]\n",
      " [ 7.3345  1.    ]\n",
      " [ 6.0062  1.    ]\n",
      " [ 7.2259  1.    ]\n",
      " [ 5.0269  1.    ]\n",
      " [ 6.5479  1.    ]\n",
      " [ 7.5386  1.    ]\n",
      " [ 5.0365  1.    ]\n",
      " [10.274   1.    ]\n",
      " [ 5.1077  1.    ]\n",
      " [ 5.7292  1.    ]\n",
      " [ 5.1884  1.    ]\n",
      " [ 6.3557  1.    ]\n",
      " [ 9.7687  1.    ]\n",
      " [ 6.5159  1.    ]\n",
      " [ 8.5172  1.    ]\n",
      " [ 9.1802  1.    ]\n",
      " [ 6.002   1.    ]\n",
      " [ 5.5204  1.    ]\n",
      " [ 5.0594  1.    ]\n",
      " [ 5.7077  1.    ]\n",
      " [ 7.6366  1.    ]\n",
      " [ 5.8707  1.    ]\n",
      " [ 5.3054  1.    ]\n",
      " [ 8.2934  1.    ]\n",
      " [13.394   1.    ]\n",
      " [ 5.4369  1.    ]]\n",
      "x.shape= (97, 2)\n",
      "Theta=\n",
      " [0 0]\n",
      "Theta.shape= (2,)\n",
      "y=\n",
      " [17.592    9.1302  13.662   11.854    6.8233  11.886    4.3483  12.\n",
      "  6.5987   3.8166   3.2522  15.505    3.1551   7.2258   0.71618  3.5129\n",
      "  5.3048   0.56077  3.6518   5.3893   3.1386  21.767    4.263    5.1875\n",
      "  3.0825  22.638   13.501    7.0467  14.692   24.147   -1.22     5.9966\n",
      " 12.134    1.8495   6.5426   4.5623   4.1164   3.3928  10.117    5.4974\n",
      "  0.55657  3.9115   5.3854   2.4406   6.7318   1.0463   5.1337   1.844\n",
      "  8.0043   1.0179   6.7504   1.8396   4.2885   4.9981   1.4233  -1.4211\n",
      "  2.4756   4.6042   3.9624   5.4141   5.1694  -0.74279 17.929   12.054\n",
      " 17.054    4.8852   5.7442   7.7754   1.0173  20.992    6.6799   4.0259\n",
      "  1.2784   3.3411  -2.6807   0.29678  3.8845   5.7014   6.7526   2.0576\n",
      "  0.47953  0.20421  0.67861  7.5435   5.3436   4.2415   6.7981   0.92695\n",
      "  0.152    2.8214   1.8451   4.2959   7.2029   1.9869   0.14454  9.0551\n",
      "  0.61705]\n",
      "y.shape= (97,)\n"
     ]
    }
   ],
   "source": [
    "#Show some data\n",
    "\n",
    "print('x=\\n',x)\n",
    "print('x.shape=',x.shape)\n",
    "print('Theta=\\n',theta)\n",
    "print('Theta.shape=',theta.shape)\n",
    "print('y=\\n',y)\n",
    "print('y.shape=',y.shape)"
   ]
  },
  {
   "cell_type": "code",
   "execution_count": 41,
   "id": "a78ad339",
   "metadata": {},
   "outputs": [],
   "source": [
    "#Cost function \n",
    "def cost_function(x,y,theta):\n",
    "    j=np.sum((x.dot(theta)-y)**2)/2/m\n",
    "    return j"
   ]
  },
  {
   "cell_type": "markdown",
   "id": "396e7ed6",
   "metadata": {},
   "source": [
    "#### initial cost with theta values 0,0"
   ]
  },
  {
   "cell_type": "code",
   "execution_count": 42,
   "id": "8086750d",
   "metadata": {},
   "outputs": [
    {
     "data": {
      "text/plain": [
       "32.072733877455676"
      ]
     },
     "execution_count": 42,
     "metadata": {},
     "output_type": "execute_result"
    }
   ],
   "source": [
    "cost_function(x,y,theta) "
   ]
  },
  {
   "cell_type": "code",
   "execution_count": 43,
   "id": "83382afa",
   "metadata": {},
   "outputs": [],
   "source": [
    "# gradient descent function\n",
    "def gradient_descent(x,y,theta,alpha,iterations):\n",
    "    cost_history=[0]*iterations\n",
    "    \n",
    "    for iteration in range(iterations):\n",
    "        hypothesis=x.dot(theta)\n",
    "        loss=hypothesis-y\n",
    "        gradient=x.T.dot(loss)/m\n",
    "        theta=theta-(alpha*gradient)\n",
    "        cost=cost_function(x,y,theta)\n",
    "        cost_history[iteration]=cost\n",
    "        \n",
    "    return theta,cost_history"
   ]
  },
  {
   "cell_type": "code",
   "execution_count": 44,
   "id": "a4d99cf8",
   "metadata": {},
   "outputs": [],
   "source": [
    "# call the gradient_descent function \n",
    "#theta 0,0\n",
    "#alpha 0.01\n",
    "#iterations 1500\n",
    "\n",
    "(t,c)=gradient_descent(x,y,theta,alpha,iterations)\n",
    "theta0=t[0]\n",
    "theta1=t[1]"
   ]
  },
  {
   "cell_type": "markdown",
   "id": "b1f7285d",
   "metadata": {},
   "source": [
    "#### plotting cost history with number of iterations"
   ]
  },
  {
   "cell_type": "code",
   "execution_count": 45,
   "id": "0e92fc8a",
   "metadata": {},
   "outputs": [
    {
     "data": {
      "image/png": "[encoded data removed]",
      "text/plain": [
       "<Figure size 432x288 with 1 Axes>"
      ]
     },
     "metadata": {
      "needs_background": "light"
     },
     "output_type": "display_data"
    }
   ],
   "source": [
    "x=np.arange(1,1501,1)\n",
    "y=c\n",
    "plt.plot(x,y) \n",
    "plt.ylabel(\"y axis cost history\")\n",
    "plt.xlabel(\"x axis number of iterations\")\n",
    "plt.title(\"Cost after 1500 iterations\")\n",
    "plt.show()"
   ]
  },
  {
   "cell_type": "markdown",
   "id": "e24a8a61",
   "metadata": {},
   "source": [
    "#### Plotting the scatter plot of data with the best line after 1500 iteration "
   ]
  },
  {
   "cell_type": "code",
   "execution_count": 46,
   "id": "e9dd2ce1",
   "metadata": {},
   "outputs": [
    {
     "data": {
      "image/png": "[encoded data removed]",
      "text/plain": [
       "<Figure size 432x288 with 1 Axes>"
      ]
     },
     "metadata": {
      "needs_background": "light"
     },
     "output_type": "display_data"
    }
   ],
   "source": [
    "plt.xlabel('customer_number')\n",
    "plt.ylabel('profit($)')\n",
    "plt.scatter(file.iloc[:,0],file.iloc[:,-1],color='red')\n",
    "\n",
    "x=file.iloc[:,0]\n",
    "y=theta0*x+theta1\n",
    "plt.plot(x,y) \n",
    "plt.xlabel(\"x axis\")\n",
    "plt.ylabel(\"y axis\")\n",
    "plt.title(\"line after\")\n",
    "plt.show()"
   ]
  },
  {
   "cell_type": "code",
   "execution_count": 47,
   "id": "81350fa7",
   "metadata": {},
   "outputs": [],
   "source": [
    "# predict function\n",
    "def predict(x):\n",
    "    y=theta0*x+theta1\n",
    "    return y"
   ]
  },
  {
   "cell_type": "markdown",
   "id": "73595d0d",
   "metadata": {},
   "source": [
    "#### Predict the profit if the number of customers is 35000 and 70000"
   ]
  },
  {
   "cell_type": "code",
   "execution_count": 48,
   "id": "f829f786",
   "metadata": {},
   "outputs": [
    {
     "name": "stdout",
     "output_type": "stream",
     "text": [
      "40819.05197030596\n"
     ]
    },
    {
     "data": {
      "text/plain": [
       "81641.73423205133"
      ]
     },
     "execution_count": 48,
     "metadata": {},
     "output_type": "execute_result"
    }
   ],
   "source": [
    "print(predict(35000))\n",
    "predict(70000)"
   ]
  },
  {
   "cell_type": "markdown",
   "id": "7d48ae52",
   "metadata": {},
   "source": [
    "#### read dataset2 by using pandas and show data"
   ]
  },
  {
   "cell_type": "code",
   "execution_count": 49,
   "id": "0d95f8fb",
   "metadata": {},
   "outputs": [
    {
     "name": "stdout",
     "output_type": "stream",
     "text": [
      "<bound method DataFrame.to_string of     house_size  room_number   price\n",
      "0         2104            3  399900\n",
      "1         1600            3  329900\n",
      "2         2400            3  369000\n",
      "3         1416            2  232000\n",
      "4         3000            4  539900\n",
      "5         1985            4  299900\n",
      "6         1534            3  314900\n",
      "7         1427            3  198999\n",
      "8         1380            3  212000\n",
      "9         1494            3  242500\n",
      "10        1940            4  239999\n",
      "11        2000            3  347000\n",
      "12        1890            3  329999\n",
      "13        4478            5  699900\n",
      "14        1268            3  259900\n",
      "15        2300            4  449900\n",
      "16        1320            2  299900\n",
      "17        1236            3  199900\n",
      "18        2609            4  499998\n",
      "19        3031            4  599000\n",
      "20        1767            3  252900\n",
      "21        1888            2  255000\n",
      "22        1604            3  242900\n",
      "23        1962            4  259900\n",
      "24        3890            3  573900\n",
      "25        1100            3  249900\n",
      "26        1458            3  464500\n",
      "27        2526            3  469000\n",
      "28        2200            3  475000\n",
      "29        2637            3  299900\n",
      "30        1839            2  349900\n",
      "31        1000            1  169900\n",
      "32        2040            4  314900\n",
      "33        3137            3  579900\n",
      "34        1811            4  285900\n",
      "35        1437            3  249900\n",
      "36        1239            3  229900\n",
      "37        2132            4  345000\n",
      "38        4215            4  549000\n",
      "39        2162            4  287000\n",
      "40        1664            2  368500\n",
      "41        2238            3  329900\n",
      "42        2567            4  314000\n",
      "43        1200            3  299000\n",
      "44         852            2  179900\n",
      "45        1852            4  299900\n",
      "46        1203            3  239500>\n"
     ]
    }
   ],
   "source": [
    "file2=pd.read_excel(\"dataset2.xlsx\")\n",
    "print(file2.to_string)"
   ]
  },
  {
   "cell_type": "code",
   "execution_count": 50,
   "id": "99c0a2bb",
   "metadata": {},
   "outputs": [
    {
     "data": {
      "text/html": [
       "<div>\n",
       "<style scoped>\n",
       "    .dataframe tbody tr th:only-of-type {\n",
       "        vertical-align: middle;\n",
       "    }\n",
       "\n",
       "    .dataframe tbody tr th {\n",
       "        vertical-align: top;\n",
       "    }\n",
       "\n",
       "    .dataframe thead th {\n",
       "        text-align: right;\n",
       "    }\n",
       "</style>\n",
       "<table border=\"1\" class=\"dataframe\">\n",
       "  <thead>\n",
       "    <tr style=\"text-align: right;\">\n",
       "      <th></th>\n",
       "      <th>house_size</th>\n",
       "      <th>room_number</th>\n",
       "      <th>price</th>\n",
       "    </tr>\n",
       "  </thead>\n",
       "  <tbody>\n",
       "    <tr>\n",
       "      <th>0</th>\n",
       "      <td>2104</td>\n",
       "      <td>3</td>\n",
       "      <td>399900</td>\n",
       "    </tr>\n",
       "    <tr>\n",
       "      <th>1</th>\n",
       "      <td>1600</td>\n",
       "      <td>3</td>\n",
       "      <td>329900</td>\n",
       "    </tr>\n",
       "    <tr>\n",
       "      <th>2</th>\n",
       "      <td>2400</td>\n",
       "      <td>3</td>\n",
       "      <td>369000</td>\n",
       "    </tr>\n",
       "    <tr>\n",
       "      <th>3</th>\n",
       "      <td>1416</td>\n",
       "      <td>2</td>\n",
       "      <td>232000</td>\n",
       "    </tr>\n",
       "    <tr>\n",
       "      <th>4</th>\n",
       "      <td>3000</td>\n",
       "      <td>4</td>\n",
       "      <td>539900</td>\n",
       "    </tr>\n",
       "    <tr>\n",
       "      <th>5</th>\n",
       "      <td>1985</td>\n",
       "      <td>4</td>\n",
       "      <td>299900</td>\n",
       "    </tr>\n",
       "    <tr>\n",
       "      <th>6</th>\n",
       "      <td>1534</td>\n",
       "      <td>3</td>\n",
       "      <td>314900</td>\n",
       "    </tr>\n",
       "    <tr>\n",
       "      <th>7</th>\n",
       "      <td>1427</td>\n",
       "      <td>3</td>\n",
       "      <td>198999</td>\n",
       "    </tr>\n",
       "    <tr>\n",
       "      <th>8</th>\n",
       "      <td>1380</td>\n",
       "      <td>3</td>\n",
       "      <td>212000</td>\n",
       "    </tr>\n",
       "    <tr>\n",
       "      <th>9</th>\n",
       "      <td>1494</td>\n",
       "      <td>3</td>\n",
       "      <td>242500</td>\n",
       "    </tr>\n",
       "    <tr>\n",
       "      <th>10</th>\n",
       "      <td>1940</td>\n",
       "      <td>4</td>\n",
       "      <td>239999</td>\n",
       "    </tr>\n",
       "    <tr>\n",
       "      <th>11</th>\n",
       "      <td>2000</td>\n",
       "      <td>3</td>\n",
       "      <td>347000</td>\n",
       "    </tr>\n",
       "    <tr>\n",
       "      <th>12</th>\n",
       "      <td>1890</td>\n",
       "      <td>3</td>\n",
       "      <td>329999</td>\n",
       "    </tr>\n",
       "    <tr>\n",
       "      <th>13</th>\n",
       "      <td>4478</td>\n",
       "      <td>5</td>\n",
       "      <td>699900</td>\n",
       "    </tr>\n",
       "    <tr>\n",
       "      <th>14</th>\n",
       "      <td>1268</td>\n",
       "      <td>3</td>\n",
       "      <td>259900</td>\n",
       "    </tr>\n",
       "    <tr>\n",
       "      <th>15</th>\n",
       "      <td>2300</td>\n",
       "      <td>4</td>\n",
       "      <td>449900</td>\n",
       "    </tr>\n",
       "    <tr>\n",
       "      <th>16</th>\n",
       "      <td>1320</td>\n",
       "      <td>2</td>\n",
       "      <td>299900</td>\n",
       "    </tr>\n",
       "    <tr>\n",
       "      <th>17</th>\n",
       "      <td>1236</td>\n",
       "      <td>3</td>\n",
       "      <td>199900</td>\n",
       "    </tr>\n",
       "    <tr>\n",
       "      <th>18</th>\n",
       "      <td>2609</td>\n",
       "      <td>4</td>\n",
       "      <td>499998</td>\n",
       "    </tr>\n",
       "    <tr>\n",
       "      <th>19</th>\n",
       "      <td>3031</td>\n",
       "      <td>4</td>\n",
       "      <td>599000</td>\n",
       "    </tr>\n",
       "    <tr>\n",
       "      <th>20</th>\n",
       "      <td>1767</td>\n",
       "      <td>3</td>\n",
       "      <td>252900</td>\n",
       "    </tr>\n",
       "    <tr>\n",
       "      <th>21</th>\n",
       "      <td>1888</td>\n",
       "      <td>2</td>\n",
       "      <td>255000</td>\n",
       "    </tr>\n",
       "    <tr>\n",
       "      <th>22</th>\n",
       "      <td>1604</td>\n",
       "      <td>3</td>\n",
       "      <td>242900</td>\n",
       "    </tr>\n",
       "    <tr>\n",
       "      <th>23</th>\n",
       "      <td>1962</td>\n",
       "      <td>4</td>\n",
       "      <td>259900</td>\n",
       "    </tr>\n",
       "    <tr>\n",
       "      <th>24</th>\n",
       "      <td>3890</td>\n",
       "      <td>3</td>\n",
       "      <td>573900</td>\n",
       "    </tr>\n",
       "    <tr>\n",
       "      <th>25</th>\n",
       "      <td>1100</td>\n",
       "      <td>3</td>\n",
       "      <td>249900</td>\n",
       "    </tr>\n",
       "    <tr>\n",
       "      <th>26</th>\n",
       "      <td>1458</td>\n",
       "      <td>3</td>\n",
       "      <td>464500</td>\n",
       "    </tr>\n",
       "    <tr>\n",
       "      <th>27</th>\n",
       "      <td>2526</td>\n",
       "      <td>3</td>\n",
       "      <td>469000</td>\n",
       "    </tr>\n",
       "    <tr>\n",
       "      <th>28</th>\n",
       "      <td>2200</td>\n",
       "      <td>3</td>\n",
       "      <td>475000</td>\n",
       "    </tr>\n",
       "    <tr>\n",
       "      <th>29</th>\n",
       "      <td>2637</td>\n",
       "      <td>3</td>\n",
       "      <td>299900</td>\n",
       "    </tr>\n",
       "    <tr>\n",
       "      <th>30</th>\n",
       "      <td>1839</td>\n",
       "      <td>2</td>\n",
       "      <td>349900</td>\n",
       "    </tr>\n",
       "    <tr>\n",
       "      <th>31</th>\n",
       "      <td>1000</td>\n",
       "      <td>1</td>\n",
       "      <td>169900</td>\n",
       "    </tr>\n",
       "    <tr>\n",
       "      <th>32</th>\n",
       "      <td>2040</td>\n",
       "      <td>4</td>\n",
       "      <td>314900</td>\n",
       "    </tr>\n",
       "    <tr>\n",
       "      <th>33</th>\n",
       "      <td>3137</td>\n",
       "      <td>3</td>\n",
       "      <td>579900</td>\n",
       "    </tr>\n",
       "    <tr>\n",
       "      <th>34</th>\n",
       "      <td>1811</td>\n",
       "      <td>4</td>\n",
       "      <td>285900</td>\n",
       "    </tr>\n",
       "    <tr>\n",
       "      <th>35</th>\n",
       "      <td>1437</td>\n",
       "      <td>3</td>\n",
       "      <td>249900</td>\n",
       "    </tr>\n",
       "    <tr>\n",
       "      <th>36</th>\n",
       "      <td>1239</td>\n",
       "      <td>3</td>\n",
       "      <td>229900</td>\n",
       "    </tr>\n",
       "    <tr>\n",
       "      <th>37</th>\n",
       "      <td>2132</td>\n",
       "      <td>4</td>\n",
       "      <td>345000</td>\n",
       "    </tr>\n",
       "    <tr>\n",
       "      <th>38</th>\n",
       "      <td>4215</td>\n",
       "      <td>4</td>\n",
       "      <td>549000</td>\n",
       "    </tr>\n",
       "    <tr>\n",
       "      <th>39</th>\n",
       "      <td>2162</td>\n",
       "      <td>4</td>\n",
       "      <td>287000</td>\n",
       "    </tr>\n",
       "    <tr>\n",
       "      <th>40</th>\n",
       "      <td>1664</td>\n",
       "      <td>2</td>\n",
       "      <td>368500</td>\n",
       "    </tr>\n",
       "    <tr>\n",
       "      <th>41</th>\n",
       "      <td>2238</td>\n",
       "      <td>3</td>\n",
       "      <td>329900</td>\n",
       "    </tr>\n",
       "    <tr>\n",
       "      <th>42</th>\n",
       "      <td>2567</td>\n",
       "      <td>4</td>\n",
       "      <td>314000</td>\n",
       "    </tr>\n",
       "    <tr>\n",
       "      <th>43</th>\n",
       "      <td>1200</td>\n",
       "      <td>3</td>\n",
       "      <td>299000</td>\n",
       "    </tr>\n",
       "    <tr>\n",
       "      <th>44</th>\n",
       "      <td>852</td>\n",
       "      <td>2</td>\n",
       "      <td>179900</td>\n",
       "    </tr>\n",
       "    <tr>\n",
       "      <th>45</th>\n",
       "      <td>1852</td>\n",
       "      <td>4</td>\n",
       "      <td>299900</td>\n",
       "    </tr>\n",
       "    <tr>\n",
       "      <th>46</th>\n",
       "      <td>1203</td>\n",
       "      <td>3</td>\n",
       "      <td>239500</td>\n",
       "    </tr>\n",
       "  </tbody>\n",
       "</table>\n",
       "</div>"
      ],
      "text/plain": [
       "    house_size  room_number   price\n",
       "0         2104            3  399900\n",
       "1         1600            3  329900\n",
       "2         2400            3  369000\n",
       "3         1416            2  232000\n",
       "4         3000            4  539900\n",
       "5         1985            4  299900\n",
       "6         1534            3  314900\n",
       "7         1427            3  198999\n",
       "8         1380            3  212000\n",
       "9         1494            3  242500\n",
       "10        1940            4  239999\n",
       "11        2000            3  347000\n",
       "12        1890            3  329999\n",
       "13        4478            5  699900\n",
       "14        1268            3  259900\n",
       "15        2300            4  449900\n",
       "16        1320            2  299900\n",
       "17        1236            3  199900\n",
       "18        2609            4  499998\n",
       "19        3031            4  599000\n",
       "20        1767            3  252900\n",
       "21        1888            2  255000\n",
       "22        1604            3  242900\n",
       "23        1962            4  259900\n",
       "24        3890            3  573900\n",
       "25        1100            3  249900\n",
       "26        1458            3  464500\n",
       "27        2526            3  469000\n",
       "28        2200            3  475000\n",
       "29        2637            3  299900\n",
       "30        1839            2  349900\n",
       "31        1000            1  169900\n",
       "32        2040            4  314900\n",
       "33        3137            3  579900\n",
       "34        1811            4  285900\n",
       "35        1437            3  249900\n",
       "36        1239            3  229900\n",
       "37        2132            4  345000\n",
       "38        4215            4  549000\n",
       "39        2162            4  287000\n",
       "40        1664            2  368500\n",
       "41        2238            3  329900\n",
       "42        2567            4  314000\n",
       "43        1200            3  299000\n",
       "44         852            2  179900\n",
       "45        1852            4  299900\n",
       "46        1203            3  239500"
      ]
     },
     "execution_count": 50,
     "metadata": {},
     "output_type": "execute_result"
    }
   ],
   "source": [
    "pd.DataFrame(file2) "
   ]
  },
  {
   "cell_type": "code",
   "execution_count": 51,
   "id": "5e8b6fd4",
   "metadata": {},
   "outputs": [
    {
     "data": {
      "text/plain": [
       "<mpl_toolkits.mplot3d.art3d.Path3DCollection at 0x1568f56ee80>"
      ]
     },
     "execution_count": 51,
     "metadata": {},
     "output_type": "execute_result"
    },
    {
     "data": {
      "image/png": "[encoded data removed]",
      "text/plain": [
       "<Figure size 432x288 with 1 Axes>"
      ]
     },
     "metadata": {
      "needs_background": "light"
     },
     "output_type": "display_data"
    }
   ],
   "source": [
    "#Draw the Scatter plot\n",
    "ax=plt.axes(projection=\"3d\")\n",
    "ax.scatter(file2.iloc[:,0],file2.iloc[:,1],file2.iloc[:,-1])"
   ]
  },
  {
   "cell_type": "markdown",
   "id": "60b7cdd7",
   "metadata": {},
   "source": [
    "#### adding a new column called ones to help us in matrices\n",
    "#### Show new data after adding a column"
   ]
  },
  {
   "cell_type": "code",
   "execution_count": 52,
   "id": "285e63d9",
   "metadata": {},
   "outputs": [
    {
     "name": "stdout",
     "output_type": "stream",
     "text": [
      "new data =\n",
      "    house_size  room_number  ones   price\n",
      "0        2104            3     1  399900\n",
      "1        1600            3     1  329900\n",
      "2        2400            3     1  369000\n",
      "3        1416            2     1  232000\n",
      "4        3000            4     1  539900\n",
      "5        1985            4     1  299900\n",
      "6        1534            3     1  314900\n",
      "7        1427            3     1  198999\n",
      "8        1380            3     1  212000\n",
      "9        1494            3     1  242500\n"
     ]
    }
   ],
   "source": [
    " file2.insert(2,'ones',1)\n",
    "print('new data =\\n',file2.head(10))"
   ]
  },
  {
   "cell_type": "code",
   "execution_count": 53,
   "id": "81a46d91",
   "metadata": {},
   "outputs": [
    {
     "name": "stdout",
     "output_type": "stream",
     "text": [
      "   house_size  room_number  ones\n",
      "0        2104            3     1\n",
      "1        1600            3     1\n",
      "2        2400            3     1\n",
      "3        1416            2     1\n",
      "4        3000            4     1\n",
      "0    399900\n",
      "1    329900\n",
      "2    369000\n",
      "3    232000\n",
      "4    539900\n",
      "Name: price, dtype: int64\n"
     ]
    }
   ],
   "source": [
    "x=file2.iloc[:,[0,1,2]]   #separete x (training data) from y by using iloc and show data\n",
    "y=file2.iloc[:,-1]\n",
    "print(x.head(5))\n",
    "print(y.head(5))"
   ]
  },
  {
   "cell_type": "code",
   "execution_count": 54,
   "id": "ad485b8b",
   "metadata": {},
   "outputs": [],
   "source": [
    "#m is number of rows\n",
    "#Convert data to numpy matrices\n",
    "\n",
    "m=len(file_bonus.house_size  )\n",
    "iterations=50000\n",
    "alpha=0.0000001\n",
    "x=np.array(x)\n",
    "y=np.array(y)\n",
    "theta=np.array([0,0,0])"
   ]
  },
  {
   "cell_type": "code",
   "execution_count": 55,
   "id": "b459e007",
   "metadata": {},
   "outputs": [
    {
     "name": "stdout",
     "output_type": "stream",
     "text": [
      "x=\n",
      " [[2104    3    1]\n",
      " [1600    3    1]\n",
      " [2400    3    1]\n",
      " [1416    2    1]\n",
      " [3000    4    1]\n",
      " [1985    4    1]\n",
      " [1534    3    1]\n",
      " [1427    3    1]\n",
      " [1380    3    1]\n",
      " [1494    3    1]\n",
      " [1940    4    1]\n",
      " [2000    3    1]\n",
      " [1890    3    1]\n",
      " [4478    5    1]\n",
      " [1268    3    1]\n",
      " [2300    4    1]\n",
      " [1320    2    1]\n",
      " [1236    3    1]\n",
      " [2609    4    1]\n",
      " [3031    4    1]\n",
      " [1767    3    1]\n",
      " [1888    2    1]\n",
      " [1604    3    1]\n",
      " [1962    4    1]\n",
      " [3890    3    1]\n",
      " [1100    3    1]\n",
      " [1458    3    1]\n",
      " [2526    3    1]\n",
      " [2200    3    1]\n",
      " [2637    3    1]\n",
      " [1839    2    1]\n",
      " [1000    1    1]\n",
      " [2040    4    1]\n",
      " [3137    3    1]\n",
      " [1811    4    1]\n",
      " [1437    3    1]\n",
      " [1239    3    1]\n",
      " [2132    4    1]\n",
      " [4215    4    1]\n",
      " [2162    4    1]\n",
      " [1664    2    1]\n",
      " [2238    3    1]\n",
      " [2567    4    1]\n",
      " [1200    3    1]\n",
      " [ 852    2    1]\n",
      " [1852    4    1]\n",
      " [1203    3    1]]\n",
      "x.shape= (47, 3)\n",
      "Theta=\n",
      " [0 0 0]\n",
      "Theta.shape= (3,)\n",
      "y=\n",
      " [399900 329900 369000 232000 539900 299900 314900 198999 212000 242500\n",
      " 239999 347000 329999 699900 259900 449900 299900 199900 499998 599000\n",
      " 252900 255000 242900 259900 573900 249900 464500 469000 475000 299900\n",
      " 349900 169900 314900 579900 285900 249900 229900 345000 549000 287000\n",
      " 368500 329900 314000 299000 179900 299900 239500]\n",
      "y.shape= (47,)\n"
     ]
    }
   ],
   "source": [
    "#Show some data\n",
    "print('x=\\n',x)\n",
    "print('x.shape=',x.shape)\n",
    "print('Theta=\\n',theta)\n",
    "print('Theta.shape=',theta.shape)\n",
    "print('y=\\n',y)\n",
    "print('y.shape=',y.shape)"
   ]
  },
  {
   "cell_type": "code",
   "execution_count": 56,
   "id": "4b85a430",
   "metadata": {},
   "outputs": [],
   "source": [
    "def cost_function2(x,y,theta):\n",
    "    j=np.sum((x.dot(theta)-y)**2)/2/m\n",
    "    return j"
   ]
  },
  {
   "cell_type": "markdown",
   "id": "564acbd7",
   "metadata": {},
   "source": [
    "#### initial cost with theta values 0,0,0"
   ]
  },
  {
   "cell_type": "code",
   "execution_count": 57,
   "id": "fb9331a7",
   "metadata": {},
   "outputs": [
    {
     "data": {
      "text/plain": [
       "65591548106.45744"
      ]
     },
     "execution_count": 57,
     "metadata": {},
     "output_type": "execute_result"
    }
   ],
   "source": [
    "cost_function2(x,y,theta) "
   ]
  },
  {
   "cell_type": "code",
   "execution_count": 58,
   "id": "45ff0f3d",
   "metadata": {},
   "outputs": [],
   "source": [
    "def gradient_descent2(x,y,theta,alpha,iterations):\n",
    "    cost_history=[0]*iterations\n",
    "    \n",
    "    for iteration in range(iterations):\n",
    "        hypothesis=x.dot(theta)\n",
    "        loss=hypothesis-y\n",
    "        gradient=x.T.dot(loss)/m\n",
    "        theta=theta-(alpha*gradient)\n",
    "        cost=cost_function2(x,y,theta)\n",
    "        cost_history[iteration]=cost\n",
    "        \n",
    "    return theta,cost_history"
   ]
  },
  {
   "cell_type": "code",
   "execution_count": 59,
   "id": "95a9a0cb",
   "metadata": {},
   "outputs": [],
   "source": [
    "(t,c)=gradient_descent2(x,y,theta,alpha,iterations)\n",
    "theta0=t[0]\n",
    "theta1=t[1]\n",
    "theta2=t[2]"
   ]
  },
  {
   "cell_type": "code",
   "execution_count": 60,
   "id": "c1768f35",
   "metadata": {},
   "outputs": [],
   "source": [
    "def predict2(x1,x2):\n",
    "    y=theta0*x1+theta1*x2+theta2\n",
    "    return y"
   ]
  },
  {
   "cell_type": "markdown",
   "id": "52d7c02e",
   "metadata": {},
   "source": [
    "#### Predict the price if the  house size is 2104 and room number is 3"
   ]
  },
  {
   "cell_type": "code",
   "execution_count": 61,
   "id": "fa5d5472",
   "metadata": {},
   "outputs": [
    {
     "name": "stdout",
     "output_type": "stream",
     "text": [
      "347967.3210964971\n"
     ]
    }
   ],
   "source": [
    "print(predict2(2104,3))"
   ]
  },
  {
   "cell_type": "code",
   "execution_count": 62,
   "id": "97da973e",
   "metadata": {},
   "outputs": [
    {
     "data": {
      "image/png": "[encoded data removed]",
      "text/plain": [
       "<Figure size 432x288 with 1 Axes>"
      ]
     },
     "metadata": {
      "needs_background": "light"
     },
     "output_type": "display_data"
    }
   ],
   "source": [
    "x=c\n",
    "y=np.arange(1,50001,1)\n",
    "plt.plot(y,x) \n",
    "plt.ylabel(\"y axis cost history\")\n",
    "plt.xlabel(\"x axis number of iterations\")\n",
    "plt.title(\"Cost after 50000 iterations\")\n",
    "plt.show()"
   ]
  },
  {
   "cell_type": "code",
   "execution_count": null,
   "id": "7d26f007",
   "metadata": {},
   "outputs": [],
   "source": []
  }
 ],
 "metadata": {
  "kernelspec": {
   "display_name": "Python 3 (ipykernel)",
   "language": "python",
   "name": "python3"
  },
  "language_info": {
   "codemirror_mode": {
    "name": "ipython",
    "version": 3
   },
   "file_extension": ".py",
   "mimetype": "text/x-python",
   "name": "python",
   "nbconvert_exporter": "python",
   "pygments_lexer": "ipython3",
   "version": "3.9.7"
  }
 },
 "nbformat": 4,
 "nbformat_minor": 5
}
